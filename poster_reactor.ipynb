{
 "cells": [
  {
   "cell_type": "markdown",
   "id": "04b27907",
   "metadata": {},
   "source": [
    "<h1>Poste maker with reactors</h1>"
   ]
  },
  {
   "cell_type": "markdown",
   "id": "df409642",
   "metadata": {},
   "source": [
    "Importing packages"
   ]
  },
  {
   "cell_type": "code",
   "execution_count": 1,
   "id": "5a05075f",
   "metadata": {},
   "outputs": [],
   "source": [
    "import networkx as nx\n",
    "import pandas as pd\n",
    "import matplotlib.pyplot as plt"
   ]
  },
  {
   "cell_type": "markdown",
   "id": "5c151e6d",
   "metadata": {},
   "source": [
    "Opening the file of dataset"
   ]
  },
  {
   "cell_type": "code",
   "execution_count": 2,
   "id": "1e057467",
   "metadata": {},
   "outputs": [],
   "source": [
    "df=pd.read_csv('../project/groupe1_2.csv')"
   ]
  },
  {
   "cell_type": "markdown",
   "id": "9dbfd538",
   "metadata": {},
   "source": [
    "Displaying the dataframe"
   ]
  },
  {
   "cell_type": "code",
   "execution_count": 3,
   "id": "bf9935d0",
   "metadata": {},
   "outputs": [],
   "source": [
    "pd.set_option('display.max_columns', None)"
   ]
  },
  {
   "cell_type": "code",
   "execution_count": 22,
   "id": "4007b02b",
   "metadata": {},
   "outputs": [
    {
     "data": {
      "text/html": [
       "<div>\n",
       "<style scoped>\n",
       "    .dataframe tbody tr th:only-of-type {\n",
       "        vertical-align: middle;\n",
       "    }\n",
       "\n",
       "    .dataframe tbody tr th {\n",
       "        vertical-align: top;\n",
       "    }\n",
       "\n",
       "    .dataframe thead th {\n",
       "        text-align: right;\n",
       "    }\n",
       "</style>\n",
       "<table border=\"1\" class=\"dataframe\">\n",
       "  <thead>\n",
       "    <tr style=\"text-align: right;\">\n",
       "      <th></th>\n",
       "      <th>Unnamed: 0</th>\n",
       "      <th>post_id</th>\n",
       "      <th>text</th>\n",
       "      <th>post_text</th>\n",
       "      <th>shared_text</th>\n",
       "      <th>original_text</th>\n",
       "      <th>time</th>\n",
       "      <th>timestamp</th>\n",
       "      <th>image</th>\n",
       "      <th>image_lowquality</th>\n",
       "      <th>images</th>\n",
       "      <th>images_description</th>\n",
       "      <th>images_lowquality</th>\n",
       "      <th>images_lowquality_description</th>\n",
       "      <th>video</th>\n",
       "      <th>video_duration_seconds</th>\n",
       "      <th>video_height</th>\n",
       "      <th>video_id</th>\n",
       "      <th>video_quality</th>\n",
       "      <th>video_size_MB</th>\n",
       "      <th>video_thumbnail</th>\n",
       "      <th>video_watches</th>\n",
       "      <th>video_width</th>\n",
       "      <th>likes</th>\n",
       "      <th>comments</th>\n",
       "      <th>shares</th>\n",
       "      <th>post_url</th>\n",
       "      <th>link</th>\n",
       "      <th>links</th>\n",
       "      <th>user_id</th>\n",
       "      <th>username</th>\n",
       "      <th>user_url</th>\n",
       "      <th>is_live</th>\n",
       "      <th>factcheck</th>\n",
       "      <th>shared_post_id</th>\n",
       "      <th>shared_time</th>\n",
       "      <th>shared_user_id</th>\n",
       "      <th>shared_username</th>\n",
       "      <th>shared_post_url</th>\n",
       "      <th>available</th>\n",
       "      <th>comments_full</th>\n",
       "      <th>reactors</th>\n",
       "      <th>w3_fb_url</th>\n",
       "      <th>reactions</th>\n",
       "      <th>reaction_count</th>\n",
       "      <th>with</th>\n",
       "      <th>page_id</th>\n",
       "      <th>sharers</th>\n",
       "      <th>image_id</th>\n",
       "      <th>image_ids</th>\n",
       "      <th>was_live</th>\n",
       "      <th>header</th>\n",
       "      <th>fetched_time</th>\n",
       "      <th>video_ids</th>\n",
       "      <th>videos</th>\n",
       "    </tr>\n",
       "  </thead>\n",
       "  <tbody>\n",
       "    <tr>\n",
       "      <th>0</th>\n",
       "      <td>0</td>\n",
       "      <td>1330025067400553</td>\n",
       "      <td>لكل من يسأل عن حمية اللوكارب LowCarb Diet 🥑🫒🍓🍖...</td>\n",
       "      <td>لكل من يسأل عن حمية اللوكارب LowCarb Diet 🥑🫒🍓🍖...</td>\n",
       "      <td>NaN</td>\n",
       "      <td>NaN</td>\n",
       "      <td>2021-08-31 10:51:53</td>\n",
       "      <td>1630403513</td>\n",
       "      <td>https://scontent.frba5-1.fna.fbcdn.net/v/t39.3...</td>\n",
       "      <td>https://scontent.frba5-1.fna.fbcdn.net/v/t39.3...</td>\n",
       "      <td>['https://scontent.frba5-1.fna.fbcdn.net/v/t39...</td>\n",
       "      <td>['قد تكون صورة \\u200fطعام\\u200f']</td>\n",
       "      <td>['https://scontent.frba5-1.fna.fbcdn.net/v/t39...</td>\n",
       "      <td>['قد تكون صورة \\u200fطعام\\u200f']</td>\n",
       "      <td>NaN</td>\n",
       "      <td>NaN</td>\n",
       "      <td>NaN</td>\n",
       "      <td>NaN</td>\n",
       "      <td>NaN</td>\n",
       "      <td>NaN</td>\n",
       "      <td>NaN</td>\n",
       "      <td>NaN</td>\n",
       "      <td>NaN</td>\n",
       "      <td>NaN</td>\n",
       "      <td>60</td>\n",
       "      <td>0</td>\n",
       "      <td>https://m.facebook.com/groups/1191348251268236...</td>\n",
       "      <td>NaN</td>\n",
       "      <td>[{'link': 'https://m.facebook.com/groups/11913...</td>\n",
       "      <td>100006203372529</td>\n",
       "      <td>Ayman Iguerhzifen</td>\n",
       "      <td>https://facebook.com/aiman.iguerh?groupid=1191...</td>\n",
       "      <td>False</td>\n",
       "      <td>NaN</td>\n",
       "      <td>NaN</td>\n",
       "      <td>NaN</td>\n",
       "      <td>NaN</td>\n",
       "      <td>NaN</td>\n",
       "      <td>NaN</td>\n",
       "      <td>True</td>\n",
       "      <td>[{'comment_id': '1340651916337868', 'comment_u...</td>\n",
       "      <td>[{'name': 'Mina Mina', 'link': 'https://facebo...</td>\n",
       "      <td>https://www.facebook.com/groups/11913482512682...</td>\n",
       "      <td>{'أعجبني': 43, 'أحببته': 4}</td>\n",
       "      <td>47</td>\n",
       "      <td>[{'name': 'Diabète Maroc - régime Low Carb - ا...</td>\n",
       "      <td>1191348251268236</td>\n",
       "      <td>NaN</td>\n",
       "      <td>3.007771e+15</td>\n",
       "      <td>['3007770982772985']</td>\n",
       "      <td>False</td>\n",
       "      <td>Ayman Iguerhzifen‏Diabète Maroc - régime Low C...</td>\n",
       "      <td>2022-12-31 17:49:59.477499</td>\n",
       "      <td>NaN</td>\n",
       "      <td>NaN</td>\n",
       "    </tr>\n",
       "    <tr>\n",
       "      <th>1</th>\n",
       "      <td>1</td>\n",
       "      <td>1668398646896525</td>\n",
       "      <td>سلام أعضاء المجموعة عندي سؤال عفاكم بنتي ولات ...</td>\n",
       "      <td>سلام أعضاء المجموعة عندي سؤال عفاكم بنتي ولات ...</td>\n",
       "      <td>NaN</td>\n",
       "      <td>NaN</td>\n",
       "      <td>2022-12-28 01:45:29</td>\n",
       "      <td>1672188329</td>\n",
       "      <td>NaN</td>\n",
       "      <td>https://scontent.frba5-1.fna.fbcdn.net/v/t1.30...</td>\n",
       "      <td>[]</td>\n",
       "      <td>[]</td>\n",
       "      <td>['https://scontent.frba5-1.fna.fbcdn.net/v/t1....</td>\n",
       "      <td>[None, 'أعجبني', 'أحزنني', 'أدعمه']</td>\n",
       "      <td>NaN</td>\n",
       "      <td>NaN</td>\n",
       "      <td>NaN</td>\n",
       "      <td>NaN</td>\n",
       "      <td>NaN</td>\n",
       "      <td>NaN</td>\n",
       "      <td>NaN</td>\n",
       "      <td>NaN</td>\n",
       "      <td>NaN</td>\n",
       "      <td>NaN</td>\n",
       "      <td>15</td>\n",
       "      <td>0</td>\n",
       "      <td>https://m.facebook.com/groups/1191348251268236...</td>\n",
       "      <td>NaN</td>\n",
       "      <td>[{'link': 'https://m.facebook.com/groups/11913...</td>\n",
       "      <td>610161740001467</td>\n",
       "      <td>Diabète Maroc - régime Low Carb - السكري و ريج...</td>\n",
       "      <td>https://m.facebook.com/groups/1191348251268236...</td>\n",
       "      <td>False</td>\n",
       "      <td>NaN</td>\n",
       "      <td>NaN</td>\n",
       "      <td>NaN</td>\n",
       "      <td>NaN</td>\n",
       "      <td>NaN</td>\n",
       "      <td>NaN</td>\n",
       "      <td>True</td>\n",
       "      <td>[{'comment_id': '1669040676832322', 'comment_u...</td>\n",
       "      <td>[{'name': 'سمية الزعيم', 'link': 'https://face...</td>\n",
       "      <td>https://www.facebook.com/groups/11913482512682...</td>\n",
       "      <td>{'أعجبني': 6, 'أدعمه': 1, 'أحزنني': 1}</td>\n",
       "      <td>8</td>\n",
       "      <td>NaN</td>\n",
       "      <td>1191348251268236</td>\n",
       "      <td>NaN</td>\n",
       "      <td>NaN</td>\n",
       "      <td>[]</td>\n",
       "      <td>False</td>\n",
       "      <td>NaN</td>\n",
       "      <td>2022-12-31 17:50:21.884609</td>\n",
       "      <td>NaN</td>\n",
       "      <td>NaN</td>\n",
       "    </tr>\n",
       "    <tr>\n",
       "      <th>2</th>\n",
       "      <td>2</td>\n",
       "      <td>1669744363428620</td>\n",
       "      <td>سلام عليكم أعضاء المجموعة بغيت نشكركم كاملين ل...</td>\n",
       "      <td>سلام عليكم أعضاء المجموعة بغيت نشكركم كاملين ل...</td>\n",
       "      <td>NaN</td>\n",
       "      <td>NaN</td>\n",
       "      <td>2022-12-29 20:14:39</td>\n",
       "      <td>1672341279</td>\n",
       "      <td>NaN</td>\n",
       "      <td>https://scontent.frba5-1.fna.fbcdn.net/v/t1.30...</td>\n",
       "      <td>[]</td>\n",
       "      <td>[]</td>\n",
       "      <td>['https://scontent.frba5-1.fna.fbcdn.net/v/t1....</td>\n",
       "      <td>[None, 'أعجبني', 'أحببته']</td>\n",
       "      <td>NaN</td>\n",
       "      <td>NaN</td>\n",
       "      <td>NaN</td>\n",
       "      <td>NaN</td>\n",
       "      <td>NaN</td>\n",
       "      <td>NaN</td>\n",
       "      <td>NaN</td>\n",
       "      <td>NaN</td>\n",
       "      <td>NaN</td>\n",
       "      <td>NaN</td>\n",
       "      <td>57</td>\n",
       "      <td>0</td>\n",
       "      <td>https://m.facebook.com/groups/1191348251268236...</td>\n",
       "      <td>NaN</td>\n",
       "      <td>[{'link': 'https://m.facebook.com/groups/11913...</td>\n",
       "      <td>688182239711911</td>\n",
       "      <td>Diabète Maroc - régime Low Carb - السكري و ريج...</td>\n",
       "      <td>https://m.facebook.com/groups/1191348251268236...</td>\n",
       "      <td>False</td>\n",
       "      <td>NaN</td>\n",
       "      <td>NaN</td>\n",
       "      <td>NaN</td>\n",
       "      <td>NaN</td>\n",
       "      <td>NaN</td>\n",
       "      <td>NaN</td>\n",
       "      <td>True</td>\n",
       "      <td>[{'comment_id': '1669769490092774', 'comment_u...</td>\n",
       "      <td>[{'name': 'سمية الزعيم', 'link': 'https://face...</td>\n",
       "      <td>https://www.facebook.com/groups/11913482512682...</td>\n",
       "      <td>{'أعجبني': 6, 'أحببته': 2}</td>\n",
       "      <td>8</td>\n",
       "      <td>NaN</td>\n",
       "      <td>1191348251268236</td>\n",
       "      <td>NaN</td>\n",
       "      <td>NaN</td>\n",
       "      <td>[]</td>\n",
       "      <td>False</td>\n",
       "      <td>NaN</td>\n",
       "      <td>2022-12-31 17:50:26.455674</td>\n",
       "      <td>NaN</td>\n",
       "      <td>NaN</td>\n",
       "    </tr>\n",
       "    <tr>\n",
       "      <th>3</th>\n",
       "      <td>3</td>\n",
       "      <td>1669102223492834</td>\n",
       "      <td>السلام عليكم الله يخليكم بغيت نعرف واش كاين شي...</td>\n",
       "      <td>السلام عليكم الله يخليكم بغيت نعرف واش كاين شي...</td>\n",
       "      <td>NaN</td>\n",
       "      <td>NaN</td>\n",
       "      <td>2022-12-29 00:09:56</td>\n",
       "      <td>1672268996</td>\n",
       "      <td>NaN</td>\n",
       "      <td>https://scontent.frba5-1.fna.fbcdn.net/m1/v/t6...</td>\n",
       "      <td>[]</td>\n",
       "      <td>[]</td>\n",
       "      <td>['https://scontent.frba5-1.fna.fbcdn.net/m1/v/...</td>\n",
       "      <td>['أعجبني']</td>\n",
       "      <td>NaN</td>\n",
       "      <td>NaN</td>\n",
       "      <td>NaN</td>\n",
       "      <td>NaN</td>\n",
       "      <td>NaN</td>\n",
       "      <td>NaN</td>\n",
       "      <td>NaN</td>\n",
       "      <td>NaN</td>\n",
       "      <td>NaN</td>\n",
       "      <td>NaN</td>\n",
       "      <td>11</td>\n",
       "      <td>0</td>\n",
       "      <td>https://m.facebook.com/groups/1191348251268236...</td>\n",
       "      <td>NaN</td>\n",
       "      <td>[{'link': 'https://m.facebook.com/groups/11913...</td>\n",
       "      <td>100024964941069</td>\n",
       "      <td>بالتحدي حققي احلامك</td>\n",
       "      <td>https://facebook.com/fifi.marghad?groupid=1191...</td>\n",
       "      <td>False</td>\n",
       "      <td>NaN</td>\n",
       "      <td>NaN</td>\n",
       "      <td>NaN</td>\n",
       "      <td>NaN</td>\n",
       "      <td>NaN</td>\n",
       "      <td>NaN</td>\n",
       "      <td>True</td>\n",
       "      <td>[{'comment_id': '1669542723448784', 'comment_u...</td>\n",
       "      <td>[{'name': 'Titrit Nsos', 'link': 'https://face...</td>\n",
       "      <td>https://www.facebook.com/groups/11913482512682...</td>\n",
       "      <td>{'أعجبني': 5}</td>\n",
       "      <td>5</td>\n",
       "      <td>[{'name': 'Diabète Maroc - régime Low Carb - ا...</td>\n",
       "      <td>1191348251268236</td>\n",
       "      <td>NaN</td>\n",
       "      <td>NaN</td>\n",
       "      <td>[]</td>\n",
       "      <td>False</td>\n",
       "      <td>بالتحدي حققي احلامك‏Diabète Maroc - régime Low...</td>\n",
       "      <td>2022-12-31 17:50:31.466447</td>\n",
       "      <td>NaN</td>\n",
       "      <td>NaN</td>\n",
       "    </tr>\n",
       "    <tr>\n",
       "      <th>4</th>\n",
       "      <td>4</td>\n",
       "      <td>1666856713717385</td>\n",
       "      <td>السلام عليكم واش يبونيم كتعوض في التامين الاجب...</td>\n",
       "      <td>السلام عليكم واش يبونيم كتعوض في التامين الاجب...</td>\n",
       "      <td>NaN</td>\n",
       "      <td>NaN</td>\n",
       "      <td>2022-12-25 23:30:59</td>\n",
       "      <td>1672007459</td>\n",
       "      <td>https://scontent.frba5-1.fna.fbcdn.net/v/t39.3...</td>\n",
       "      <td>https://scontent.frba5-1.fna.fbcdn.net/v/t39.3...</td>\n",
       "      <td>['https://scontent.frba5-1.fna.fbcdn.net/v/t39...</td>\n",
       "      <td>['قد تكون صورة \\u200fمستحضرات تجميل\\u200f']</td>\n",
       "      <td>['https://scontent.frba5-1.fna.fbcdn.net/v/t39...</td>\n",
       "      <td>['قد تكون صورة \\u200fمستحضرات تجميل\\u200f']</td>\n",
       "      <td>NaN</td>\n",
       "      <td>NaN</td>\n",
       "      <td>NaN</td>\n",
       "      <td>NaN</td>\n",
       "      <td>NaN</td>\n",
       "      <td>NaN</td>\n",
       "      <td>NaN</td>\n",
       "      <td>NaN</td>\n",
       "      <td>NaN</td>\n",
       "      <td>NaN</td>\n",
       "      <td>23</td>\n",
       "      <td>0</td>\n",
       "      <td>https://m.facebook.com/groups/1191348251268236...</td>\n",
       "      <td>NaN</td>\n",
       "      <td>[{'link': 'https://m.facebook.com/groups/11913...</td>\n",
       "      <td>100000705231535</td>\n",
       "      <td>Ahlam Chawi</td>\n",
       "      <td>https://facebook.com/ahlam.chawi?groupid=11913...</td>\n",
       "      <td>False</td>\n",
       "      <td>NaN</td>\n",
       "      <td>NaN</td>\n",
       "      <td>NaN</td>\n",
       "      <td>NaN</td>\n",
       "      <td>NaN</td>\n",
       "      <td>NaN</td>\n",
       "      <td>True</td>\n",
       "      <td>[{'comment_id': '1667318633671193', 'comment_u...</td>\n",
       "      <td>[{'name': 'أم أسامة', 'link': 'https://faceboo...</td>\n",
       "      <td>https://www.facebook.com/groups/11913482512682...</td>\n",
       "      <td>{'أعجبني': 3, 'أحببته': 1}</td>\n",
       "      <td>4</td>\n",
       "      <td>[{'name': 'Diabète Maroc - régime Low Carb - ا...</td>\n",
       "      <td>1191348251268236</td>\n",
       "      <td>NaN</td>\n",
       "      <td>6.269645e+15</td>\n",
       "      <td>['6269644843068961']</td>\n",
       "      <td>False</td>\n",
       "      <td>Ahlam Chawi‏Diabète Maroc - régime Low Carb - ...</td>\n",
       "      <td>2022-12-31 17:50:36.710072</td>\n",
       "      <td>NaN</td>\n",
       "      <td>NaN</td>\n",
       "    </tr>\n",
       "  </tbody>\n",
       "</table>\n",
       "</div>"
      ],
      "text/plain": [
       "   Unnamed: 0           post_id  \\\n",
       "0           0  1330025067400553   \n",
       "1           1  1668398646896525   \n",
       "2           2  1669744363428620   \n",
       "3           3  1669102223492834   \n",
       "4           4  1666856713717385   \n",
       "\n",
       "                                                text  \\\n",
       "0  لكل من يسأل عن حمية اللوكارب LowCarb Diet 🥑🫒🍓🍖...   \n",
       "1  سلام أعضاء المجموعة عندي سؤال عفاكم بنتي ولات ...   \n",
       "2  سلام عليكم أعضاء المجموعة بغيت نشكركم كاملين ل...   \n",
       "3  السلام عليكم الله يخليكم بغيت نعرف واش كاين شي...   \n",
       "4  السلام عليكم واش يبونيم كتعوض في التامين الاجب...   \n",
       "\n",
       "                                           post_text shared_text  \\\n",
       "0  لكل من يسأل عن حمية اللوكارب LowCarb Diet 🥑🫒🍓🍖...         NaN   \n",
       "1  سلام أعضاء المجموعة عندي سؤال عفاكم بنتي ولات ...         NaN   \n",
       "2  سلام عليكم أعضاء المجموعة بغيت نشكركم كاملين ل...         NaN   \n",
       "3  السلام عليكم الله يخليكم بغيت نعرف واش كاين شي...         NaN   \n",
       "4  السلام عليكم واش يبونيم كتعوض في التامين الاجب...         NaN   \n",
       "\n",
       "  original_text                 time   timestamp  \\\n",
       "0           NaN  2021-08-31 10:51:53  1630403513   \n",
       "1           NaN  2022-12-28 01:45:29  1672188329   \n",
       "2           NaN  2022-12-29 20:14:39  1672341279   \n",
       "3           NaN  2022-12-29 00:09:56  1672268996   \n",
       "4           NaN  2022-12-25 23:30:59  1672007459   \n",
       "\n",
       "                                               image  \\\n",
       "0  https://scontent.frba5-1.fna.fbcdn.net/v/t39.3...   \n",
       "1                                                NaN   \n",
       "2                                                NaN   \n",
       "3                                                NaN   \n",
       "4  https://scontent.frba5-1.fna.fbcdn.net/v/t39.3...   \n",
       "\n",
       "                                    image_lowquality  \\\n",
       "0  https://scontent.frba5-1.fna.fbcdn.net/v/t39.3...   \n",
       "1  https://scontent.frba5-1.fna.fbcdn.net/v/t1.30...   \n",
       "2  https://scontent.frba5-1.fna.fbcdn.net/v/t1.30...   \n",
       "3  https://scontent.frba5-1.fna.fbcdn.net/m1/v/t6...   \n",
       "4  https://scontent.frba5-1.fna.fbcdn.net/v/t39.3...   \n",
       "\n",
       "                                              images  \\\n",
       "0  ['https://scontent.frba5-1.fna.fbcdn.net/v/t39...   \n",
       "1                                                 []   \n",
       "2                                                 []   \n",
       "3                                                 []   \n",
       "4  ['https://scontent.frba5-1.fna.fbcdn.net/v/t39...   \n",
       "\n",
       "                            images_description  \\\n",
       "0            ['قد تكون صورة \\u200fطعام\\u200f']   \n",
       "1                                           []   \n",
       "2                                           []   \n",
       "3                                           []   \n",
       "4  ['قد تكون صورة \\u200fمستحضرات تجميل\\u200f']   \n",
       "\n",
       "                                   images_lowquality  \\\n",
       "0  ['https://scontent.frba5-1.fna.fbcdn.net/v/t39...   \n",
       "1  ['https://scontent.frba5-1.fna.fbcdn.net/v/t1....   \n",
       "2  ['https://scontent.frba5-1.fna.fbcdn.net/v/t1....   \n",
       "3  ['https://scontent.frba5-1.fna.fbcdn.net/m1/v/...   \n",
       "4  ['https://scontent.frba5-1.fna.fbcdn.net/v/t39...   \n",
       "\n",
       "                 images_lowquality_description video  video_duration_seconds  \\\n",
       "0            ['قد تكون صورة \\u200fطعام\\u200f']   NaN                     NaN   \n",
       "1          [None, 'أعجبني', 'أحزنني', 'أدعمه']   NaN                     NaN   \n",
       "2                   [None, 'أعجبني', 'أحببته']   NaN                     NaN   \n",
       "3                                   ['أعجبني']   NaN                     NaN   \n",
       "4  ['قد تكون صورة \\u200fمستحضرات تجميل\\u200f']   NaN                     NaN   \n",
       "\n",
       "   video_height  video_id  video_quality  video_size_MB video_thumbnail  \\\n",
       "0           NaN       NaN            NaN            NaN             NaN   \n",
       "1           NaN       NaN            NaN            NaN             NaN   \n",
       "2           NaN       NaN            NaN            NaN             NaN   \n",
       "3           NaN       NaN            NaN            NaN             NaN   \n",
       "4           NaN       NaN            NaN            NaN             NaN   \n",
       "\n",
       "   video_watches  video_width  likes  comments  shares  \\\n",
       "0            NaN          NaN    NaN        60       0   \n",
       "1            NaN          NaN    NaN        15       0   \n",
       "2            NaN          NaN    NaN        57       0   \n",
       "3            NaN          NaN    NaN        11       0   \n",
       "4            NaN          NaN    NaN        23       0   \n",
       "\n",
       "                                            post_url  link  \\\n",
       "0  https://m.facebook.com/groups/1191348251268236...   NaN   \n",
       "1  https://m.facebook.com/groups/1191348251268236...   NaN   \n",
       "2  https://m.facebook.com/groups/1191348251268236...   NaN   \n",
       "3  https://m.facebook.com/groups/1191348251268236...   NaN   \n",
       "4  https://m.facebook.com/groups/1191348251268236...   NaN   \n",
       "\n",
       "                                               links          user_id  \\\n",
       "0  [{'link': 'https://m.facebook.com/groups/11913...  100006203372529   \n",
       "1  [{'link': 'https://m.facebook.com/groups/11913...  610161740001467   \n",
       "2  [{'link': 'https://m.facebook.com/groups/11913...  688182239711911   \n",
       "3  [{'link': 'https://m.facebook.com/groups/11913...  100024964941069   \n",
       "4  [{'link': 'https://m.facebook.com/groups/11913...  100000705231535   \n",
       "\n",
       "                                            username  \\\n",
       "0                                  Ayman Iguerhzifen   \n",
       "1  Diabète Maroc - régime Low Carb - السكري و ريج...   \n",
       "2  Diabète Maroc - régime Low Carb - السكري و ريج...   \n",
       "3                                بالتحدي حققي احلامك   \n",
       "4                                        Ahlam Chawi   \n",
       "\n",
       "                                            user_url  is_live  factcheck  \\\n",
       "0  https://facebook.com/aiman.iguerh?groupid=1191...    False        NaN   \n",
       "1  https://m.facebook.com/groups/1191348251268236...    False        NaN   \n",
       "2  https://m.facebook.com/groups/1191348251268236...    False        NaN   \n",
       "3  https://facebook.com/fifi.marghad?groupid=1191...    False        NaN   \n",
       "4  https://facebook.com/ahlam.chawi?groupid=11913...    False        NaN   \n",
       "\n",
       "   shared_post_id shared_time  shared_user_id shared_username shared_post_url  \\\n",
       "0             NaN         NaN             NaN             NaN             NaN   \n",
       "1             NaN         NaN             NaN             NaN             NaN   \n",
       "2             NaN         NaN             NaN             NaN             NaN   \n",
       "3             NaN         NaN             NaN             NaN             NaN   \n",
       "4             NaN         NaN             NaN             NaN             NaN   \n",
       "\n",
       "   available                                      comments_full  \\\n",
       "0       True  [{'comment_id': '1340651916337868', 'comment_u...   \n",
       "1       True  [{'comment_id': '1669040676832322', 'comment_u...   \n",
       "2       True  [{'comment_id': '1669769490092774', 'comment_u...   \n",
       "3       True  [{'comment_id': '1669542723448784', 'comment_u...   \n",
       "4       True  [{'comment_id': '1667318633671193', 'comment_u...   \n",
       "\n",
       "                                            reactors  \\\n",
       "0  [{'name': 'Mina Mina', 'link': 'https://facebo...   \n",
       "1  [{'name': 'سمية الزعيم', 'link': 'https://face...   \n",
       "2  [{'name': 'سمية الزعيم', 'link': 'https://face...   \n",
       "3  [{'name': 'Titrit Nsos', 'link': 'https://face...   \n",
       "4  [{'name': 'أم أسامة', 'link': 'https://faceboo...   \n",
       "\n",
       "                                           w3_fb_url  \\\n",
       "0  https://www.facebook.com/groups/11913482512682...   \n",
       "1  https://www.facebook.com/groups/11913482512682...   \n",
       "2  https://www.facebook.com/groups/11913482512682...   \n",
       "3  https://www.facebook.com/groups/11913482512682...   \n",
       "4  https://www.facebook.com/groups/11913482512682...   \n",
       "\n",
       "                                reactions  reaction_count  \\\n",
       "0             {'أعجبني': 43, 'أحببته': 4}              47   \n",
       "1  {'أعجبني': 6, 'أدعمه': 1, 'أحزنني': 1}               8   \n",
       "2              {'أعجبني': 6, 'أحببته': 2}               8   \n",
       "3                           {'أعجبني': 5}               5   \n",
       "4              {'أعجبني': 3, 'أحببته': 1}               4   \n",
       "\n",
       "                                                with           page_id  \\\n",
       "0  [{'name': 'Diabète Maroc - régime Low Carb - ا...  1191348251268236   \n",
       "1                                                NaN  1191348251268236   \n",
       "2                                                NaN  1191348251268236   \n",
       "3  [{'name': 'Diabète Maroc - régime Low Carb - ا...  1191348251268236   \n",
       "4  [{'name': 'Diabète Maroc - régime Low Carb - ا...  1191348251268236   \n",
       "\n",
       "   sharers      image_id             image_ids  was_live  \\\n",
       "0      NaN  3.007771e+15  ['3007770982772985']     False   \n",
       "1      NaN           NaN                    []     False   \n",
       "2      NaN           NaN                    []     False   \n",
       "3      NaN           NaN                    []     False   \n",
       "4      NaN  6.269645e+15  ['6269644843068961']     False   \n",
       "\n",
       "                                              header  \\\n",
       "0  Ayman Iguerhzifen‏Diabète Maroc - régime Low C...   \n",
       "1                                                NaN   \n",
       "2                                                NaN   \n",
       "3  بالتحدي حققي احلامك‏Diabète Maroc - régime Low...   \n",
       "4  Ahlam Chawi‏Diabète Maroc - régime Low Carb - ...   \n",
       "\n",
       "                 fetched_time video_ids videos  \n",
       "0  2022-12-31 17:49:59.477499       NaN    NaN  \n",
       "1  2022-12-31 17:50:21.884609       NaN    NaN  \n",
       "2  2022-12-31 17:50:26.455674       NaN    NaN  \n",
       "3  2022-12-31 17:50:31.466447       NaN    NaN  \n",
       "4  2022-12-31 17:50:36.710072       NaN    NaN  "
      ]
     },
     "execution_count": 22,
     "metadata": {},
     "output_type": "execute_result"
    }
   ],
   "source": [
    "df.head()"
   ]
  },
  {
   "cell_type": "markdown",
   "id": "a36dcb30",
   "metadata": {},
   "source": [
    "Checking the culmns name"
   ]
  },
  {
   "cell_type": "code",
   "execution_count": 5,
   "id": "8041836b",
   "metadata": {},
   "outputs": [
    {
     "data": {
      "text/plain": [
       "Index(['Unnamed: 0', 'post_id', 'text', 'post_text', 'shared_text',\n",
       "       'original_text', 'time', 'timestamp', 'image', 'image_lowquality',\n",
       "       'images', 'images_description', 'images_lowquality',\n",
       "       'images_lowquality_description', 'video', 'video_duration_seconds',\n",
       "       'video_height', 'video_id', 'video_quality', 'video_size_MB',\n",
       "       'video_thumbnail', 'video_watches', 'video_width', 'likes', 'comments',\n",
       "       'shares', 'post_url', 'link', 'links', 'user_id', 'username',\n",
       "       'user_url', 'is_live', 'factcheck', 'shared_post_id', 'shared_time',\n",
       "       'shared_user_id', 'shared_username', 'shared_post_url', 'available',\n",
       "       'comments_full', 'reactors', 'w3_fb_url', 'reactions', 'reaction_count',\n",
       "       'with', 'page_id', 'sharers', 'image_id', 'image_ids', 'was_live',\n",
       "       'header', 'fetched_time', 'video_ids', 'videos'],\n",
       "      dtype='object')"
      ]
     },
     "execution_count": 5,
     "metadata": {},
     "output_type": "execute_result"
    }
   ],
   "source": [
    "df.columns"
   ]
  },
  {
   "cell_type": "markdown",
   "id": "008dc3b2",
   "metadata": {},
   "source": [
    "Checking the columns values"
   ]
  },
  {
   "cell_type": "code",
   "execution_count": 6,
   "id": "e2c9c32c",
   "metadata": {},
   "outputs": [
    {
     "data": {
      "text/plain": [
       "<AxesSubplot:>"
      ]
     },
     "execution_count": 6,
     "metadata": {},
     "output_type": "execute_result"
    },
    {
     "data": {
      "image/png": "[encoded data removed]",
      "text/plain": [
       "<Figure size 1080x720 with 1 Axes>"
      ]
     },
     "metadata": {
      "needs_background": "light"
     },
     "output_type": "display_data"
    }
   ],
   "source": [
    "df.isna().sum().plot(kind='bar',figsize=(15,10))"
   ]
  },
  {
   "cell_type": "markdown",
   "id": "2e91a543",
   "metadata": {},
   "source": [
    "Select our necessary columns and display them"
   ]
  },
  {
   "cell_type": "code",
   "execution_count": 7,
   "id": "0cf43d5e",
   "metadata": {},
   "outputs": [
    {
     "data": {
      "text/html": [
       "<div>\n",
       "<style scoped>\n",
       "    .dataframe tbody tr th:only-of-type {\n",
       "        vertical-align: middle;\n",
       "    }\n",
       "\n",
       "    .dataframe tbody tr th {\n",
       "        vertical-align: top;\n",
       "    }\n",
       "\n",
       "    .dataframe thead th {\n",
       "        text-align: right;\n",
       "    }\n",
       "</style>\n",
       "<table border=\"1\" class=\"dataframe\">\n",
       "  <thead>\n",
       "    <tr style=\"text-align: right;\">\n",
       "      <th></th>\n",
       "      <th>post_id</th>\n",
       "      <th>user_id</th>\n",
       "      <th>reactors</th>\n",
       "      <th>reaction_count</th>\n",
       "      <th>reactions</th>\n",
       "    </tr>\n",
       "  </thead>\n",
       "  <tbody>\n",
       "    <tr>\n",
       "      <th>0</th>\n",
       "      <td>1330025067400553</td>\n",
       "      <td>100006203372529</td>\n",
       "      <td>[{'name': 'Mina Mina', 'link': 'https://facebo...</td>\n",
       "      <td>47</td>\n",
       "      <td>{'أعجبني': 43, 'أحببته': 4}</td>\n",
       "    </tr>\n",
       "    <tr>\n",
       "      <th>1</th>\n",
       "      <td>1668398646896525</td>\n",
       "      <td>610161740001467</td>\n",
       "      <td>[{'name': 'سمية الزعيم', 'link': 'https://face...</td>\n",
       "      <td>8</td>\n",
       "      <td>{'أعجبني': 6, 'أدعمه': 1, 'أحزنني': 1}</td>\n",
       "    </tr>\n",
       "    <tr>\n",
       "      <th>2</th>\n",
       "      <td>1669744363428620</td>\n",
       "      <td>688182239711911</td>\n",
       "      <td>[{'name': 'سمية الزعيم', 'link': 'https://face...</td>\n",
       "      <td>8</td>\n",
       "      <td>{'أعجبني': 6, 'أحببته': 2}</td>\n",
       "    </tr>\n",
       "    <tr>\n",
       "      <th>3</th>\n",
       "      <td>1669102223492834</td>\n",
       "      <td>100024964941069</td>\n",
       "      <td>[{'name': 'Titrit Nsos', 'link': 'https://face...</td>\n",
       "      <td>5</td>\n",
       "      <td>{'أعجبني': 5}</td>\n",
       "    </tr>\n",
       "    <tr>\n",
       "      <th>4</th>\n",
       "      <td>1666856713717385</td>\n",
       "      <td>100000705231535</td>\n",
       "      <td>[{'name': 'أم أسامة', 'link': 'https://faceboo...</td>\n",
       "      <td>4</td>\n",
       "      <td>{'أعجبني': 3, 'أحببته': 1}</td>\n",
       "    </tr>\n",
       "    <tr>\n",
       "      <th>...</th>\n",
       "      <td>...</td>\n",
       "      <td>...</td>\n",
       "      <td>...</td>\n",
       "      <td>...</td>\n",
       "      <td>...</td>\n",
       "    </tr>\n",
       "    <tr>\n",
       "      <th>198</th>\n",
       "      <td>1548938998842491</td>\n",
       "      <td>556323512149501</td>\n",
       "      <td>[{'name': 'نبيل العيمش', 'link': 'https://face...</td>\n",
       "      <td>22</td>\n",
       "      <td>{'أعجبني': 18, 'أحببته': 4}</td>\n",
       "    </tr>\n",
       "    <tr>\n",
       "      <th>199</th>\n",
       "      <td>1560300581039666</td>\n",
       "      <td>100057308121198</td>\n",
       "      <td>NaN</td>\n",
       "      <td>0</td>\n",
       "      <td>NaN</td>\n",
       "    </tr>\n",
       "    <tr>\n",
       "      <th>200</th>\n",
       "      <td>1558770844525973</td>\n",
       "      <td>1527786162</td>\n",
       "      <td>NaN</td>\n",
       "      <td>0</td>\n",
       "      <td>NaN</td>\n",
       "    </tr>\n",
       "    <tr>\n",
       "      <th>201</th>\n",
       "      <td>1549355345467523</td>\n",
       "      <td>100022643686482</td>\n",
       "      <td>NaN</td>\n",
       "      <td>0</td>\n",
       "      <td>NaN</td>\n",
       "    </tr>\n",
       "    <tr>\n",
       "      <th>202</th>\n",
       "      <td>1530072470729144</td>\n",
       "      <td>100053438014613</td>\n",
       "      <td>NaN</td>\n",
       "      <td>0</td>\n",
       "      <td>NaN</td>\n",
       "    </tr>\n",
       "  </tbody>\n",
       "</table>\n",
       "<p>203 rows × 5 columns</p>\n",
       "</div>"
      ],
      "text/plain": [
       "              post_id          user_id  \\\n",
       "0    1330025067400553  100006203372529   \n",
       "1    1668398646896525  610161740001467   \n",
       "2    1669744363428620  688182239711911   \n",
       "3    1669102223492834  100024964941069   \n",
       "4    1666856713717385  100000705231535   \n",
       "..                ...              ...   \n",
       "198  1548938998842491  556323512149501   \n",
       "199  1560300581039666  100057308121198   \n",
       "200  1558770844525973       1527786162   \n",
       "201  1549355345467523  100022643686482   \n",
       "202  1530072470729144  100053438014613   \n",
       "\n",
       "                                              reactors  reaction_count  \\\n",
       "0    [{'name': 'Mina Mina', 'link': 'https://facebo...              47   \n",
       "1    [{'name': 'سمية الزعيم', 'link': 'https://face...               8   \n",
       "2    [{'name': 'سمية الزعيم', 'link': 'https://face...               8   \n",
       "3    [{'name': 'Titrit Nsos', 'link': 'https://face...               5   \n",
       "4    [{'name': 'أم أسامة', 'link': 'https://faceboo...               4   \n",
       "..                                                 ...             ...   \n",
       "198  [{'name': 'نبيل العيمش', 'link': 'https://face...              22   \n",
       "199                                                NaN               0   \n",
       "200                                                NaN               0   \n",
       "201                                                NaN               0   \n",
       "202                                                NaN               0   \n",
       "\n",
       "                                  reactions  \n",
       "0               {'أعجبني': 43, 'أحببته': 4}  \n",
       "1    {'أعجبني': 6, 'أدعمه': 1, 'أحزنني': 1}  \n",
       "2                {'أعجبني': 6, 'أحببته': 2}  \n",
       "3                             {'أعجبني': 5}  \n",
       "4                {'أعجبني': 3, 'أحببته': 1}  \n",
       "..                                      ...  \n",
       "198             {'أعجبني': 18, 'أحببته': 4}  \n",
       "199                                     NaN  \n",
       "200                                     NaN  \n",
       "201                                     NaN  \n",
       "202                                     NaN  \n",
       "\n",
       "[203 rows x 5 columns]"
      ]
     },
     "execution_count": 7,
     "metadata": {},
     "output_type": "execute_result"
    }
   ],
   "source": [
    "my_df=df[['post_id','user_id','reactors','reaction_count','reactions']]\n",
    "my_df"
   ]
  },
  {
   "cell_type": "markdown",
   "id": "857d3d56",
   "metadata": {},
   "source": [
    "Displaying reactors column"
   ]
  },
  {
   "cell_type": "code",
   "execution_count": 8,
   "id": "e625f97b",
   "metadata": {},
   "outputs": [
    {
     "data": {
      "text/plain": [
       "\"[{'name': 'أم أسامة', 'link': 'https://facebook.com/profile.php?id=100043740153357&groupid=1191348251268236&eav=AfaSFAk1xz7_YWlwXWlGk687UuxFMHZvIHrk1unhSCjDIMqT1NUKz15eS0Dr21_kdDQ&paipv=0', 'type': 'like'}, {'name': 'ونعمة بالله', 'link': 'https://facebook.com/profile.php?id=100028588027806&groupid=1191348251268236&eav=AfYZgGRTia5MLzgXS31h1_VizoDVakHP5hLUzZtyYkoDUSnUWQCWktqXjRqBCgfNvm0&paipv=0', 'type': 'like'}, {'name': 'خولة خولة', 'link': 'https://facebook.com/profile.php?id=100013871521793&groupid=1191348251268236&eav=Afb6_7H5ljyyp8JjVjQjq6DY-cfgOU_9XJ4tVbEEYGiUW6zNat_GAPjErj9Nxyo0IEI&paipv=0', 'type': 'like'}, {'name': 'Zakaria Kenza', 'link': 'https://facebook.com/pabloroshandinho?groupid=1191348251268236&eav=AfYuFrJzf8xCvU_gA29PH8vIW3C7Q2q78Lp4JoU8uHu1q_wF0dvjynwc6b8WyRO4E2w&paipv=0', 'type': 'love'}]\""
      ]
     },
     "execution_count": 8,
     "metadata": {},
     "output_type": "execute_result"
    }
   ],
   "source": [
    "my_df['reactors'][4]"
   ]
  },
  {
   "cell_type": "markdown",
   "id": "06ba3c96",
   "metadata": {},
   "source": [
    "Using reactors column we can extract the id of the reactor by extract_id function which we will create in the following cell:"
   ]
  },
  {
   "cell_type": "code",
   "execution_count": 9,
   "id": "620288f3",
   "metadata": {},
   "outputs": [],
   "source": [
    "def extract_id(char):\n",
    "    id_reactor=''\n",
    "    id_reactor_=0\n",
    "    m=len(char)\n",
    "#     Extract the user (reactor) id from the link if it is available\n",
    "    for i in range(m) :\n",
    "         if i<=m-4:\n",
    "            if char[i]=='?' and char[i+1]=='i' and char[i+2]=='d'and char[i+3]=='=':\n",
    "                k=i+4\n",
    "                while char[k]!='&':\n",
    "                    id_reactor+=char[k]\n",
    "                    k+=1\n",
    "                return int(id_reactor);\n",
    "#    If the id reactor not available we'll create the user id by the code ASII standing on the name of the user \n",
    "    for i in range(len(char)):\n",
    "         if i<=m-4:     \n",
    "                if char[i:i+4]=='.com':\n",
    "                    k=i+5\n",
    "                    while char[k]!='?':\n",
    "                        id_reactor_+=ord(char[k])\n",
    "                        k+=1\n",
    "                    return id_reactor_;"
   ]
  },
  {
   "cell_type": "markdown",
   "id": "10a002d9",
   "metadata": {},
   "source": [
    "Test this function to show you more how it works"
   ]
  },
  {
   "cell_type": "markdown",
   "id": "1f48fa7b",
   "metadata": {},
   "source": [
    "test 1"
   ]
  },
  {
   "cell_type": "code",
   "execution_count": 10,
   "id": "2050255f",
   "metadata": {},
   "outputs": [
    {
     "data": {
      "text/plain": [
       "'https://facebook.com/pabloroshandinho?groupid=1191348251268236&eav=AfYuFrJzf8xCvU_gA29PH8vIW3C7Q2q78Lp4JoU8uHu1q_wF0dvjynwc6b8WyRO4E2w&paipv=0'"
      ]
     },
     "execution_count": 10,
     "metadata": {},
     "output_type": "execute_result"
    }
   ],
   "source": [
    "eval(df.reactors[4])[3]['link']"
   ]
  },
  {
   "cell_type": "code",
   "execution_count": 11,
   "id": "1c74a3a4",
   "metadata": {},
   "outputs": [
    {
     "data": {
      "text/plain": [
       "1707"
      ]
     },
     "execution_count": 11,
     "metadata": {},
     "output_type": "execute_result"
    }
   ],
   "source": [
    "extract_id(eval(df.reactors[4])[3]['link'])"
   ]
  },
  {
   "cell_type": "markdown",
   "id": "5016f810",
   "metadata": {},
   "source": [
    "test 2"
   ]
  },
  {
   "cell_type": "code",
   "execution_count": 12,
   "id": "2b8b33cb",
   "metadata": {},
   "outputs": [
    {
     "data": {
      "text/plain": [
       "'https://facebook.com/profile.php?id=100056230580512&groupid=1191348251268236&eav=Afafps487oWqkUinRrgMmq0CR6xUpllz51D93k717Ng5_rwzTmNSftZn4AYVshrzjKU&paipv=0'"
      ]
     },
     "execution_count": 12,
     "metadata": {},
     "output_type": "execute_result"
    }
   ],
   "source": [
    "eval(df.reactors[0])[6]['link']"
   ]
  },
  {
   "cell_type": "code",
   "execution_count": 13,
   "id": "78d3917e",
   "metadata": {},
   "outputs": [
    {
     "data": {
      "text/plain": [
       "100056230580512"
      ]
     },
     "execution_count": 13,
     "metadata": {},
     "output_type": "execute_result"
    }
   ],
   "source": [
    "extract_id(eval(df.reactors[0])[6]['link'])"
   ]
  },
  {
   "cell_type": "code",
   "execution_count": 14,
   "id": "bfa0c129",
   "metadata": {},
   "outputs": [
    {
     "data": {
      "text/plain": [
       "\"[{'name': 'أم أسامة', 'link': 'https://facebook.com/profile.php?id=100043740153357&groupid=1191348251268236&eav=AfaSFAk1xz7_YWlwXWlGk687UuxFMHZvIHrk1unhSCjDIMqT1NUKz15eS0Dr21_kdDQ&paipv=0', 'type': 'like'}, {'name': 'ونعمة بالله', 'link': 'https://facebook.com/profile.php?id=100028588027806&groupid=1191348251268236&eav=AfYZgGRTia5MLzgXS31h1_VizoDVakHP5hLUzZtyYkoDUSnUWQCWktqXjRqBCgfNvm0&paipv=0', 'type': 'like'}, {'name': 'خولة خولة', 'link': 'https://facebook.com/profile.php?id=100013871521793&groupid=1191348251268236&eav=Afb6_7H5ljyyp8JjVjQjq6DY-cfgOU_9XJ4tVbEEYGiUW6zNat_GAPjErj9Nxyo0IEI&paipv=0', 'type': 'like'}, {'name': 'Zakaria Kenza', 'link': 'https://facebook.com/pabloroshandinho?groupid=1191348251268236&eav=AfYuFrJzf8xCvU_gA29PH8vIW3C7Q2q78Lp4JoU8uHu1q_wF0dvjynwc6b8WyRO4E2w&paipv=0', 'type': 'love'}]\""
      ]
     },
     "execution_count": 14,
     "metadata": {},
     "output_type": "execute_result"
    }
   ],
   "source": [
    "my_df['reactors'][4]"
   ]
  },
  {
   "cell_type": "markdown",
   "id": "516b0506",
   "metadata": {},
   "source": [
    "Count the sum of reactions in our dataframe"
   ]
  },
  {
   "cell_type": "code",
   "execution_count": 15,
   "id": "0afc579b",
   "metadata": {},
   "outputs": [
    {
     "name": "stdout",
     "output_type": "stream",
     "text": [
      "2577\n"
     ]
    }
   ],
   "source": [
    "k=0\n",
    "for i in range(len(my_df)):\n",
    "    if not pd.isna(my_df['reactors'][i]) : \n",
    "        k+=len(eval(my_df['reactors'][i]))       \n",
    "print(k)"
   ]
  },
  {
   "cell_type": "markdown",
   "id": "63f0821f",
   "metadata": {},
   "source": [
    "<h4>Reactors</h4>"
   ]
  },
  {
   "cell_type": "markdown",
   "id": "6708886b",
   "metadata": {},
   "source": [
    "As we saw before we have 2577 lines of reactions, so we'll create a datafrrame with two columns and 2577 rows"
   ]
  },
  {
   "cell_type": "code",
   "execution_count": 16,
   "id": "c95de3a7",
   "metadata": {
    "scrolled": true
   },
   "outputs": [
    {
     "name": "stdout",
     "output_type": "stream",
     "text": [
      "2577 ******** 2577\n"
     ]
    }
   ],
   "source": [
    "reactors_id = []\n",
    "user_post = []\n",
    "\n",
    "for i in range(len(my_df)):\n",
    "    if not pd.isna(my_df['reactors'][i]) :\n",
    "        for a in range(len(eval(my_df['reactors'][i]))):\n",
    "             if not pd.isna(my_df['reactors'][i]) : \n",
    "                reactors_id.append(extract_id(eval(my_df['reactors'][i])[a]['link']))\n",
    "                user_post.append(my_df['user_id'][i])\n",
    "\n",
    "print(len(reactors_id),'********',len(user_post))\n",
    "# "
   ]
  },
  {
   "cell_type": "markdown",
   "id": "9ca497d1",
   "metadata": {},
   "source": [
    "Create a dataframe"
   ]
  },
  {
   "cell_type": "code",
   "execution_count": 17,
   "id": "bab4522f",
   "metadata": {},
   "outputs": [],
   "source": [
    "G_reactions = pd.DataFrame(data={'reactors_id':reactors_id,'user_post':user_post})"
   ]
  },
  {
   "cell_type": "code",
   "execution_count": 18,
   "id": "fa30c2ec",
   "metadata": {},
   "outputs": [
    {
     "data": {
      "text/plain": [
       "(2577, 2)"
      ]
     },
     "execution_count": 18,
     "metadata": {},
     "output_type": "execute_result"
    }
   ],
   "source": [
    "G_reactions.shape"
   ]
  },
  {
   "cell_type": "markdown",
   "id": "54a49f72",
   "metadata": {},
   "source": [
    "Now we are moving to create our graph of users who posted with people who reacted to those posts"
   ]
  },
  {
   "cell_type": "code",
   "execution_count": 19,
   "id": "af1159b3",
   "metadata": {},
   "outputs": [
    {
     "name": "stdout",
     "output_type": "stream",
     "text": [
      "Nodes in reactions network: 593\n",
      "Edges in reactions network: 1551\n"
     ]
    }
   ],
   "source": [
    "# Create G_reactions network from edgelist\n",
    "G_reactions = nx.from_pandas_edgelist(\n",
    "    G_reactions,\n",
    "    source = 'reactors_id',\n",
    "    target = 'user_post',\n",
    "    create_using = nx.DiGraph())\n",
    "    \n",
    "# Print the number of nodes\n",
    "print('Nodes in reactions network:', len(G_reactions.nodes()))\n",
    "\n",
    "# Print the number of edges\n",
    "print('Edges in reactions network:', len(G_reactions.edges()))"
   ]
  },
  {
   "cell_type": "markdown",
   "id": "9fa258ec",
   "metadata": {},
   "source": [
    "Ploting the graph"
   ]
  },
  {
   "cell_type": "code",
   "execution_count": 20,
   "id": "8e52e775",
   "metadata": {},
   "outputs": [
    {
     "data": {
      "image/png": "[encoded data removed]",
      "text/plain": [
       "<Figure size 432x288 with 1 Axes>"
      ]
     },
     "metadata": {},
     "output_type": "display_data"
    }
   ],
   "source": [
    "pos = nx.random_layout(G_reactions)\n",
    "\n",
    "# Create size list\n",
    "sizes = [x[1] for x in G_reactions.degree()]\n",
    "\n",
    "# Draw the network\n",
    "nx.draw_networkx(G_reactions, pos, \n",
    "    with_labels = False, \n",
    "    node_size = sizes,\n",
    "    width = 0.1, alpha = 0.7,\n",
    "    arrowsize = 2, linewidths = 0, edge_color ='.4')\n",
    "\n",
    "# Turn axis off and show\n",
    "plt.axis('off'); plt.show()"
   ]
  },
  {
   "cell_type": "markdown",
   "id": "9ee6fa86",
   "metadata": {},
   "source": [
    "Displaying some properties of the graph"
   ]
  },
  {
   "cell_type": "markdown",
   "id": "90b153b7",
   "metadata": {},
   "source": [
    "If A connected to B and B connected to C how often A connected to C ?"
   ]
  },
  {
   "cell_type": "code",
   "execution_count": 21,
   "id": "23cf4e57",
   "metadata": {},
   "outputs": [
    {
     "data": {
      "text/plain": [
       "0.0168592373943708"
      ]
     },
     "execution_count": 21,
     "metadata": {},
     "output_type": "execute_result"
    }
   ],
   "source": [
    "nx.cluster.average_clustering(G_reactions)"
   ]
  }
 ],
 "metadata": {
  "kernelspec": {
   "display_name": "Python 3 (ipykernel)",
   "language": "python",
   "name": "python3"
  },
  "language_info": {
   "codemirror_mode": {
    "name": "ipython",
    "version": 3
   },
   "file_extension": ".py",
   "mimetype": "text/x-python",
   "name": "python",
   "nbconvert_exporter": "python",
   "pygments_lexer": "ipython3",
   "version": "3.8.0"
  }
 },
 "nbformat": 4,
 "nbformat_minor": 5
}
